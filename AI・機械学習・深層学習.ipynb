{
  "nbformat": 4,
  "nbformat_minor": 0,
  "metadata": {
    "colab": {
      "name": "AI・機械学習・深層学習.ipynb",
      "version": "0.3.2",
      "provenance": [],
      "collapsed_sections": [],
      "toc_visible": true,
      "include_colab_link": true
    },
    "kernelspec": {
      "name": "python3",
      "display_name": "Python 3"
    }
  },
  "cells": [
    {
      "cell_type": "markdown",
      "metadata": {
        "id": "view-in-github",
        "colab_type": "text"
      },
      "source": [
        "[View in Colaboratory](https://colab.research.google.com/github/katoy/book-mlearn-gyomu/blob/master/AI%E3%83%BB%E6%A9%9F%E6%A2%B0%E5%AD%A6%E7%BF%92%E3%83%BB%E6%B7%B1%E5%B1%A4%E5%AD%A6%E7%BF%92.ipynb)"
      ]
    },
    {
      "metadata": {
        "id": "-lYzN2R77Evd",
        "colab_type": "text"
      },
      "cell_type": "markdown",
      "source": [
        "# 準備"
      ]
    },
    {
      "metadata": {
        "id": "2XFCEvXqyvzE",
        "colab_type": "text"
      },
      "cell_type": "markdown",
      "source": [
        "https://github.com/kujirahand/book-mlearn-gyomu\n",
        " \n",
        "http://www.socym.co.jp/book/1164\n",
        "  "
      ]
    },
    {
      "metadata": {
        "id": "jMReild95SYr",
        "colab_type": "text"
      },
      "cell_type": "markdown",
      "source": [
        ""
      ]
    },
    {
      "metadata": {
        "id": "wXjcooRv5Uhr",
        "colab_type": "code",
        "colab": {
          "base_uri": "https://localhost:8080/",
          "height": 513
        },
        "outputId": "0d34996c-ce46-4a0e-b2d1-806cf32d5dfb"
      },
      "cell_type": "code",
      "source": [
        "# 追加でインストールする\n",
        "!pip install pandas_profiling\n",
        "!pip install mlxtend\n",
        "!apt-get -y install fonts-ipafont-gothic\n",
        "!pip install -q untangle\n",
        "!pip install -q wordcloud"
      ],
      "execution_count": 27,
      "outputs": [
        {
          "output_type": "stream",
          "text": [
            "Requirement already satisfied: pandas_profiling in /usr/local/lib/python3.6/dist-packages (1.4.1)\r\n",
            "Requirement already satisfied: matplotlib>=1.4 in /usr/local/lib/python3.6/dist-packages (from pandas_profiling) (2.1.2)\r\n",
            "Requirement already satisfied: pandas>=0.19 in /usr/local/lib/python3.6/dist-packages (from pandas_profiling) (0.22.0)\r\n",
            "Requirement already satisfied: jinja2>=2.8 in /usr/local/lib/python3.6/dist-packages (from pandas_profiling) (2.10)\r\n",
            "Requirement already satisfied: six>=1.9 in /usr/local/lib/python3.6/dist-packages (from pandas_profiling) (1.11.0)\r\n",
            "Requirement already satisfied: python-dateutil>=2.1 in /usr/local/lib/python3.6/dist-packages (from matplotlib>=1.4->pandas_profiling) (2.5.3)\r\n",
            "Requirement already satisfied: cycler>=0.10 in /usr/local/lib/python3.6/dist-packages (from matplotlib>=1.4->pandas_profiling) (0.10.0)\r\n",
            "Requirement already satisfied: numpy>=1.7.1 in /usr/local/lib/python3.6/dist-packages (from matplotlib>=1.4->pandas_profiling) (1.14.5)\r\n",
            "Requirement already satisfied: pyparsing!=2.0.4,!=2.1.2,!=2.1.6,>=2.0.1 in /usr/local/lib/python3.6/dist-packages (from matplotlib>=1.4->pandas_profiling) (2.2.0)\r\n",
            "Requirement already satisfied: pytz in /usr/local/lib/python3.6/dist-packages (from matplotlib>=1.4->pandas_profiling) (2018.5)\r\n",
            "Requirement already satisfied: MarkupSafe>=0.23 in /usr/local/lib/python3.6/dist-packages (from jinja2>=2.8->pandas_profiling) (1.0)\n",
            "Requirement already satisfied: mlxtend in /usr/local/lib/python3.6/dist-packages (0.13.0)\n",
            "Requirement already satisfied: scikit-learn>=0.18 in /usr/local/lib/python3.6/dist-packages (from mlxtend) (0.19.2)\n",
            "Requirement already satisfied: pandas>=0.17.1 in /usr/local/lib/python3.6/dist-packages (from mlxtend) (0.22.0)\n",
            "Requirement already satisfied: matplotlib>=1.5.1 in /usr/local/lib/python3.6/dist-packages (from mlxtend) (2.1.2)\n",
            "Requirement already satisfied: setuptools in /usr/local/lib/python3.6/dist-packages (from mlxtend) (39.1.0)\n",
            "Requirement already satisfied: numpy>=1.10.4 in /usr/local/lib/python3.6/dist-packages (from mlxtend) (1.14.5)\n",
            "Requirement already satisfied: scipy>=0.17 in /usr/local/lib/python3.6/dist-packages (from mlxtend) (0.19.1)\n",
            "Requirement already satisfied: python-dateutil>=2 in /usr/local/lib/python3.6/dist-packages (from pandas>=0.17.1->mlxtend) (2.5.3)\n",
            "Requirement already satisfied: pytz>=2011k in /usr/local/lib/python3.6/dist-packages (from pandas>=0.17.1->mlxtend) (2018.5)\n",
            "Requirement already satisfied: cycler>=0.10 in /usr/local/lib/python3.6/dist-packages (from matplotlib>=1.5.1->mlxtend) (0.10.0)\n",
            "Requirement already satisfied: six>=1.10 in /usr/local/lib/python3.6/dist-packages (from matplotlib>=1.5.1->mlxtend) (1.11.0)\n",
            "Requirement already satisfied: pyparsing!=2.0.4,!=2.1.2,!=2.1.6,>=2.0.1 in /usr/local/lib/python3.6/dist-packages (from matplotlib>=1.5.1->mlxtend) (2.2.0)\n",
            "Reading package lists... Done\n",
            "Building dependency tree       \n",
            "Reading state information... Done\n",
            "fonts-ipafont-gothic is already the newest version (00303-17ubuntu1).\n",
            "0 upgraded, 0 newly installed, 0 to remove and 0 not upgraded.\n"
          ],
          "name": "stdout"
        }
      ]
    },
    {
      "metadata": {
        "id": "-BvbRb61g68g",
        "colab_type": "text"
      },
      "cell_type": "markdown",
      "source": [
        "# ２章"
      ]
    },
    {
      "metadata": {
        "id": "apnj4GM5iBwW",
        "colab_type": "text"
      },
      "cell_type": "markdown",
      "source": [
        "## And の学習"
      ]
    },
    {
      "metadata": {
        "id": "erthzjVB5KwD",
        "colab_type": "text"
      },
      "cell_type": "markdown",
      "source": [
        ""
      ]
    },
    {
      "metadata": {
        "id": "dUuXeBOSgyQ6",
        "colab_type": "code",
        "colab": {
          "base_uri": "https://localhost:8080/",
          "height": 51
        },
        "outputId": "6c89ec9d-04ef-478c-d40a-824fc99e2941"
      },
      "cell_type": "code",
      "source": [
        "# ライブラリのインポート --- (*1)\n",
        "from sklearn.svm import LinearSVC\n",
        "from sklearn.metrics import accuracy_score\n",
        "\n",
        "# 学習用のデータと結果の準備 --- (*2)\n",
        "# X , Y\n",
        "learn_data = [[0,0], [1,0], [0,1], [1,1]]\n",
        "# X and Y\n",
        "learn_label = [0, 0, 0, 1]\n",
        "\n",
        "# アルゴリズムの指定(LinierSVC) --- (*3)\n",
        "clf = LinearSVC()\n",
        "\n",
        "# 学習用データと結果の学習  --- (*4)\n",
        "clf.fit(learn_data, learn_label)\n",
        "\n",
        "# テストデータによる予測 --- (*5)\n",
        "test_data = [[0,0], [1,0], [0,1], [1,1]]\n",
        "test_label = clf.predict(test_data)\n",
        "\n",
        "# 予測結果の評価 --- (*6)\n",
        "print(test_data , \"の予測結果：\" ,  test_label)\n",
        "print(\"正解率 = \" , accuracy_score([0, 0, 0, 1], test_label))"
      ],
      "execution_count": 0,
      "outputs": [
        {
          "output_type": "stream",
          "text": [
            "[[0, 0], [1, 0], [0, 1], [1, 1]] の予測結果： [0 0 0 1]\n",
            "正解率 =  1.0\n"
          ],
          "name": "stdout"
        }
      ]
    },
    {
      "metadata": {
        "id": "0aJZCpTHh6yx",
        "colab_type": "text"
      },
      "cell_type": "markdown",
      "source": [
        "## ORの学習"
      ]
    },
    {
      "metadata": {
        "id": "yi8fIQsNinT9",
        "colab_type": "code",
        "colab": {
          "base_uri": "https://localhost:8080/",
          "height": 51
        },
        "outputId": "b4e32162-1e6b-4f36-8318-31eea023b87b"
      },
      "cell_type": "code",
      "source": [
        "# ライブラリのインポート\n",
        "from sklearn.svm import LinearSVC\n",
        "from sklearn.metrics import accuracy_score\n",
        "\n",
        "# 学習用のデータと結果の準備\n",
        "# X , Y\n",
        "learn_data = [[0,0], [1,0], [0,1], [1,1]]\n",
        "# X xor Y\n",
        "learn_label = [0, 1, 1, 0]  #(*) xor用のラベルに変更\n",
        "\n",
        "# アルゴリズムの指定(LinierSVC)\n",
        "clf = LinearSVC()\n",
        "\n",
        "# 学習用データと結果の学習 \n",
        "clf.fit(learn_data, learn_label)\n",
        "\n",
        "# テストデータによる予測\n",
        "test_data = [[0,0], [1,0], [0,1], [1,1]]\n",
        "test_label = clf.predict(test_data)\n",
        "\n",
        "# テスト結果の評価\n",
        "print(test_data , \"の予測結果：\" ,  test_label)\n",
        "print(\"正解率 = \" , accuracy_score([0, 1, 1, 0], test_label))  #(*) xor用のラベルに変更"
      ],
      "execution_count": 0,
      "outputs": [
        {
          "output_type": "stream",
          "text": [
            "[[0, 0], [1, 0], [0, 1], [1, 1]] の予測結果： [1 1 1 1]\n",
            "正解率 =  0.5\n"
          ],
          "name": "stdout"
        }
      ]
    },
    {
      "metadata": {
        "id": "qP_RNBHZiqqS",
        "colab_type": "code",
        "colab": {
          "base_uri": "https://localhost:8080/",
          "height": 51
        },
        "outputId": "68f951b2-fa23-40e2-e3d7-fddb3e0aad56"
      },
      "cell_type": "code",
      "source": [
        "# ライブラリのインポート --- (*1)\n",
        "from sklearn.neighbors import KNeighborsClassifier\n",
        "from sklearn.metrics import accuracy_score\n",
        "\n",
        "# 学習用のデータと結果の準備\n",
        "# X , Y\n",
        "learn_data = [[0,0], [1,0], [0,1], [1,1]]\n",
        "# X xor Y\n",
        "learn_label = [0, 1, 1, 0]  #(*) xor用のラベルに変更\n",
        "\n",
        "# アルゴリズムの指定(KNeighborsClassifier) --- (*2)    # <----　変更\n",
        "clf = KNeighborsClassifier(n_neighbors = 1)\n",
        "\n",
        "# 学習用データと結果の学習 \n",
        "clf.fit(learn_data, learn_label)\n",
        "\n",
        "# テストデータによる予測\n",
        "test_data = [[0,0], [1,0], [0,1], [1,1]]\n",
        "test_label = clf.predict(test_data)\n",
        "\n",
        "# テスト結果の評価\n",
        "print(test_data , \"の予測結果：\" ,  test_label)\n",
        "print(\"正解率 = \" , accuracy_score([0, 1, 1, 0], test_label))  #(*) xor用のラベルに変更"
      ],
      "execution_count": 0,
      "outputs": [
        {
          "output_type": "stream",
          "text": [
            "[[0, 0], [1, 0], [0, 1], [1, 1]] の予測結果： [0 1 1 0]\n",
            "正解率 =  1.0\n"
          ],
          "name": "stdout"
        }
      ]
    },
    {
      "metadata": {
        "id": "gcc2fMoxjU0H",
        "colab_type": "text"
      },
      "cell_type": "markdown",
      "source": [
        "## アヤメの分類"
      ]
    },
    {
      "metadata": {
        "id": "emi5p6rrjaXi",
        "colab_type": "code",
        "colab": {
          "base_uri": "https://localhost:8080/",
          "height": 51
        },
        "outputId": "77cf1598-d75b-4a18-c31d-2adcaa530c6b"
      },
      "cell_type": "code",
      "source": [
        "import pandas as pd\n",
        "from sklearn.model_selection import train_test_split\n",
        "from sklearn.svm import SVC\n",
        "from sklearn.metrics import accuracy_score\n",
        "\n",
        "# csvファイルを読む場合 \n",
        "#  https://github.com/kujirahand/book-mlearn-gyomu/blob/master/ch2/iris/iris.csv\n",
        "# -------------------------------------------\n",
        "# アヤメデータの読み込み --- (*1)\n",
        "# iris_data = pd.read_csv(\"iris.csv\", encoding=\"utf-8\")\n",
        "#\n",
        "# アヤメデータをラベルと入力データに分離する --- (*2)\n",
        "# y = iris_data.loc[:,\"Name\"]\n",
        "# x = iris_data.loc[:,[\"SepalLength\",\"SepalWidth\",\"PetalLength\",\"PetalWidth\"]]\n",
        "# \n",
        "# 学習用とテスト用に分離する --- (*3)\n",
        "# x_train, x_test, y_train, y_test = train_test_split(x, y, test_size = 0.2, train_size = 0.8, shuffle = True)\n",
        "\n",
        "# sklearn の datases を利用する場合\n",
        "#-----------------------------------------\n",
        "from sklearn.datasets import load_iris\n",
        "\n",
        "iris= load_iris()\n",
        "x = pd.DataFrame(data=iris.data, columns=iris.feature_names)\n",
        "y = pd.Series(data=iris.target)\n",
        "# print(\"データの先頭 5 行\")\n",
        "# print(ｘ.head())\n",
        "# print(\"\")\n",
        "# print(\"ラベルの種類\")\n",
        "# print(y.unique())\n",
        "# print(\"\")\n",
        "\n",
        "x_train, x_test, y_train, y_test = model_selection.train_test_split(x, y, test_size = 0.2, train_size = 0.8, shuffle = True)\n",
        "print(\"学習数:\", len(x_train),  \" テスト数:\", len(x_test))\n",
        "\n",
        "# 学習する --- (*4)\n",
        "clf = SVC()\n",
        "clf.fit(x_train, y_train)\n",
        "\n",
        "# 評価する --- (*5)\n",
        "y_pred = clf.predict(x_test)\n",
        "print(\"正解率 = \" , accuracy_score(y_test, y_pred))"
      ],
      "execution_count": 0,
      "outputs": [
        {
          "output_type": "stream",
          "text": [
            "学習数: 120  テスト数: 30\n",
            "正解率 =  0.9666666666666667\n"
          ],
          "name": "stdout"
        }
      ]
    },
    {
      "metadata": {
        "id": "0YXkdW9SyZAN",
        "colab_type": "text"
      },
      "cell_type": "markdown",
      "source": [
        ""
      ]
    },
    {
      "metadata": {
        "id": "qgJKHuaDvPHc",
        "colab_type": "text"
      },
      "cell_type": "markdown",
      "source": [
        "### csv ファイルのダウンロード"
      ]
    },
    {
      "metadata": {
        "id": "I_6zQfGbvXc3",
        "colab_type": "code",
        "colab": {
          "base_uri": "https://localhost:8080/",
          "height": 1986
        },
        "outputId": "d688ab1a-e15c-42c8-fc07-30c1beafa541"
      },
      "cell_type": "code",
      "source": [
        "import urllib.request as req\n",
        "import pandas as pd\n",
        "\n",
        "# ファイルをダウンロード\n",
        "url = \"https://raw.githubusercontent.com/pandas-dev/pandas/master/pandas/tests/data/iris.csv\"\n",
        "savefile = \"iris.csv\"\n",
        "req.urlretrieve(url, savefile)\n",
        "print(\"保存しました。\" , savefile)\n",
        "\n",
        "# ダウンロードしたファイルの内容を表示\n",
        "csv = pd.read_csv(savefile, encoding=\"utf-8\")\n",
        "csv"
      ],
      "execution_count": 0,
      "outputs": [
        {
          "output_type": "stream",
          "text": [
            "保存しました。 iris.csv\n"
          ],
          "name": "stdout"
        },
        {
          "output_type": "execute_result",
          "data": {
            "text/html": [
              "<div>\n",
              "<style scoped>\n",
              "    .dataframe tbody tr th:only-of-type {\n",
              "        vertical-align: middle;\n",
              "    }\n",
              "\n",
              "    .dataframe tbody tr th {\n",
              "        vertical-align: top;\n",
              "    }\n",
              "\n",
              "    .dataframe thead th {\n",
              "        text-align: right;\n",
              "    }\n",
              "</style>\n",
              "<table border=\"1\" class=\"dataframe\">\n",
              "  <thead>\n",
              "    <tr style=\"text-align: right;\">\n",
              "      <th></th>\n",
              "      <th>SepalLength</th>\n",
              "      <th>SepalWidth</th>\n",
              "      <th>PetalLength</th>\n",
              "      <th>PetalWidth</th>\n",
              "      <th>Name</th>\n",
              "    </tr>\n",
              "  </thead>\n",
              "  <tbody>\n",
              "    <tr>\n",
              "      <th>0</th>\n",
              "      <td>5.1</td>\n",
              "      <td>3.5</td>\n",
              "      <td>1.4</td>\n",
              "      <td>0.2</td>\n",
              "      <td>Iris-setosa</td>\n",
              "    </tr>\n",
              "    <tr>\n",
              "      <th>1</th>\n",
              "      <td>4.9</td>\n",
              "      <td>3.0</td>\n",
              "      <td>1.4</td>\n",
              "      <td>0.2</td>\n",
              "      <td>Iris-setosa</td>\n",
              "    </tr>\n",
              "    <tr>\n",
              "      <th>2</th>\n",
              "      <td>4.7</td>\n",
              "      <td>3.2</td>\n",
              "      <td>1.3</td>\n",
              "      <td>0.2</td>\n",
              "      <td>Iris-setosa</td>\n",
              "    </tr>\n",
              "    <tr>\n",
              "      <th>3</th>\n",
              "      <td>4.6</td>\n",
              "      <td>3.1</td>\n",
              "      <td>1.5</td>\n",
              "      <td>0.2</td>\n",
              "      <td>Iris-setosa</td>\n",
              "    </tr>\n",
              "    <tr>\n",
              "      <th>4</th>\n",
              "      <td>5.0</td>\n",
              "      <td>3.6</td>\n",
              "      <td>1.4</td>\n",
              "      <td>0.2</td>\n",
              "      <td>Iris-setosa</td>\n",
              "    </tr>\n",
              "    <tr>\n",
              "      <th>5</th>\n",
              "      <td>5.4</td>\n",
              "      <td>3.9</td>\n",
              "      <td>1.7</td>\n",
              "      <td>0.4</td>\n",
              "      <td>Iris-setosa</td>\n",
              "    </tr>\n",
              "    <tr>\n",
              "      <th>6</th>\n",
              "      <td>4.6</td>\n",
              "      <td>3.4</td>\n",
              "      <td>1.4</td>\n",
              "      <td>0.3</td>\n",
              "      <td>Iris-setosa</td>\n",
              "    </tr>\n",
              "    <tr>\n",
              "      <th>7</th>\n",
              "      <td>5.0</td>\n",
              "      <td>3.4</td>\n",
              "      <td>1.5</td>\n",
              "      <td>0.2</td>\n",
              "      <td>Iris-setosa</td>\n",
              "    </tr>\n",
              "    <tr>\n",
              "      <th>8</th>\n",
              "      <td>4.4</td>\n",
              "      <td>2.9</td>\n",
              "      <td>1.4</td>\n",
              "      <td>0.2</td>\n",
              "      <td>Iris-setosa</td>\n",
              "    </tr>\n",
              "    <tr>\n",
              "      <th>9</th>\n",
              "      <td>4.9</td>\n",
              "      <td>3.1</td>\n",
              "      <td>1.5</td>\n",
              "      <td>0.1</td>\n",
              "      <td>Iris-setosa</td>\n",
              "    </tr>\n",
              "    <tr>\n",
              "      <th>10</th>\n",
              "      <td>5.4</td>\n",
              "      <td>3.7</td>\n",
              "      <td>1.5</td>\n",
              "      <td>0.2</td>\n",
              "      <td>Iris-setosa</td>\n",
              "    </tr>\n",
              "    <tr>\n",
              "      <th>11</th>\n",
              "      <td>4.8</td>\n",
              "      <td>3.4</td>\n",
              "      <td>1.6</td>\n",
              "      <td>0.2</td>\n",
              "      <td>Iris-setosa</td>\n",
              "    </tr>\n",
              "    <tr>\n",
              "      <th>12</th>\n",
              "      <td>4.8</td>\n",
              "      <td>3.0</td>\n",
              "      <td>1.4</td>\n",
              "      <td>0.1</td>\n",
              "      <td>Iris-setosa</td>\n",
              "    </tr>\n",
              "    <tr>\n",
              "      <th>13</th>\n",
              "      <td>4.3</td>\n",
              "      <td>3.0</td>\n",
              "      <td>1.1</td>\n",
              "      <td>0.1</td>\n",
              "      <td>Iris-setosa</td>\n",
              "    </tr>\n",
              "    <tr>\n",
              "      <th>14</th>\n",
              "      <td>5.8</td>\n",
              "      <td>4.0</td>\n",
              "      <td>1.2</td>\n",
              "      <td>0.2</td>\n",
              "      <td>Iris-setosa</td>\n",
              "    </tr>\n",
              "    <tr>\n",
              "      <th>15</th>\n",
              "      <td>5.7</td>\n",
              "      <td>4.4</td>\n",
              "      <td>1.5</td>\n",
              "      <td>0.4</td>\n",
              "      <td>Iris-setosa</td>\n",
              "    </tr>\n",
              "    <tr>\n",
              "      <th>16</th>\n",
              "      <td>5.4</td>\n",
              "      <td>3.9</td>\n",
              "      <td>1.3</td>\n",
              "      <td>0.4</td>\n",
              "      <td>Iris-setosa</td>\n",
              "    </tr>\n",
              "    <tr>\n",
              "      <th>17</th>\n",
              "      <td>5.1</td>\n",
              "      <td>3.5</td>\n",
              "      <td>1.4</td>\n",
              "      <td>0.3</td>\n",
              "      <td>Iris-setosa</td>\n",
              "    </tr>\n",
              "    <tr>\n",
              "      <th>18</th>\n",
              "      <td>5.7</td>\n",
              "      <td>3.8</td>\n",
              "      <td>1.7</td>\n",
              "      <td>0.3</td>\n",
              "      <td>Iris-setosa</td>\n",
              "    </tr>\n",
              "    <tr>\n",
              "      <th>19</th>\n",
              "      <td>5.1</td>\n",
              "      <td>3.8</td>\n",
              "      <td>1.5</td>\n",
              "      <td>0.3</td>\n",
              "      <td>Iris-setosa</td>\n",
              "    </tr>\n",
              "    <tr>\n",
              "      <th>20</th>\n",
              "      <td>5.4</td>\n",
              "      <td>3.4</td>\n",
              "      <td>1.7</td>\n",
              "      <td>0.2</td>\n",
              "      <td>Iris-setosa</td>\n",
              "    </tr>\n",
              "    <tr>\n",
              "      <th>21</th>\n",
              "      <td>5.1</td>\n",
              "      <td>3.7</td>\n",
              "      <td>1.5</td>\n",
              "      <td>0.4</td>\n",
              "      <td>Iris-setosa</td>\n",
              "    </tr>\n",
              "    <tr>\n",
              "      <th>22</th>\n",
              "      <td>4.6</td>\n",
              "      <td>3.6</td>\n",
              "      <td>1.0</td>\n",
              "      <td>0.2</td>\n",
              "      <td>Iris-setosa</td>\n",
              "    </tr>\n",
              "    <tr>\n",
              "      <th>23</th>\n",
              "      <td>5.1</td>\n",
              "      <td>3.3</td>\n",
              "      <td>1.7</td>\n",
              "      <td>0.5</td>\n",
              "      <td>Iris-setosa</td>\n",
              "    </tr>\n",
              "    <tr>\n",
              "      <th>24</th>\n",
              "      <td>4.8</td>\n",
              "      <td>3.4</td>\n",
              "      <td>1.9</td>\n",
              "      <td>0.2</td>\n",
              "      <td>Iris-setosa</td>\n",
              "    </tr>\n",
              "    <tr>\n",
              "      <th>25</th>\n",
              "      <td>5.0</td>\n",
              "      <td>3.0</td>\n",
              "      <td>1.6</td>\n",
              "      <td>0.2</td>\n",
              "      <td>Iris-setosa</td>\n",
              "    </tr>\n",
              "    <tr>\n",
              "      <th>26</th>\n",
              "      <td>5.0</td>\n",
              "      <td>3.4</td>\n",
              "      <td>1.6</td>\n",
              "      <td>0.4</td>\n",
              "      <td>Iris-setosa</td>\n",
              "    </tr>\n",
              "    <tr>\n",
              "      <th>27</th>\n",
              "      <td>5.2</td>\n",
              "      <td>3.5</td>\n",
              "      <td>1.5</td>\n",
              "      <td>0.2</td>\n",
              "      <td>Iris-setosa</td>\n",
              "    </tr>\n",
              "    <tr>\n",
              "      <th>28</th>\n",
              "      <td>5.2</td>\n",
              "      <td>3.4</td>\n",
              "      <td>1.4</td>\n",
              "      <td>0.2</td>\n",
              "      <td>Iris-setosa</td>\n",
              "    </tr>\n",
              "    <tr>\n",
              "      <th>29</th>\n",
              "      <td>4.7</td>\n",
              "      <td>3.2</td>\n",
              "      <td>1.6</td>\n",
              "      <td>0.2</td>\n",
              "      <td>Iris-setosa</td>\n",
              "    </tr>\n",
              "    <tr>\n",
              "      <th>...</th>\n",
              "      <td>...</td>\n",
              "      <td>...</td>\n",
              "      <td>...</td>\n",
              "      <td>...</td>\n",
              "      <td>...</td>\n",
              "    </tr>\n",
              "    <tr>\n",
              "      <th>120</th>\n",
              "      <td>6.9</td>\n",
              "      <td>3.2</td>\n",
              "      <td>5.7</td>\n",
              "      <td>2.3</td>\n",
              "      <td>Iris-virginica</td>\n",
              "    </tr>\n",
              "    <tr>\n",
              "      <th>121</th>\n",
              "      <td>5.6</td>\n",
              "      <td>2.8</td>\n",
              "      <td>4.9</td>\n",
              "      <td>2.0</td>\n",
              "      <td>Iris-virginica</td>\n",
              "    </tr>\n",
              "    <tr>\n",
              "      <th>122</th>\n",
              "      <td>7.7</td>\n",
              "      <td>2.8</td>\n",
              "      <td>6.7</td>\n",
              "      <td>2.0</td>\n",
              "      <td>Iris-virginica</td>\n",
              "    </tr>\n",
              "    <tr>\n",
              "      <th>123</th>\n",
              "      <td>6.3</td>\n",
              "      <td>2.7</td>\n",
              "      <td>4.9</td>\n",
              "      <td>1.8</td>\n",
              "      <td>Iris-virginica</td>\n",
              "    </tr>\n",
              "    <tr>\n",
              "      <th>124</th>\n",
              "      <td>6.7</td>\n",
              "      <td>3.3</td>\n",
              "      <td>5.7</td>\n",
              "      <td>2.1</td>\n",
              "      <td>Iris-virginica</td>\n",
              "    </tr>\n",
              "    <tr>\n",
              "      <th>125</th>\n",
              "      <td>7.2</td>\n",
              "      <td>3.2</td>\n",
              "      <td>6.0</td>\n",
              "      <td>1.8</td>\n",
              "      <td>Iris-virginica</td>\n",
              "    </tr>\n",
              "    <tr>\n",
              "      <th>126</th>\n",
              "      <td>6.2</td>\n",
              "      <td>2.8</td>\n",
              "      <td>4.8</td>\n",
              "      <td>1.8</td>\n",
              "      <td>Iris-virginica</td>\n",
              "    </tr>\n",
              "    <tr>\n",
              "      <th>127</th>\n",
              "      <td>6.1</td>\n",
              "      <td>3.0</td>\n",
              "      <td>4.9</td>\n",
              "      <td>1.8</td>\n",
              "      <td>Iris-virginica</td>\n",
              "    </tr>\n",
              "    <tr>\n",
              "      <th>128</th>\n",
              "      <td>6.4</td>\n",
              "      <td>2.8</td>\n",
              "      <td>5.6</td>\n",
              "      <td>2.1</td>\n",
              "      <td>Iris-virginica</td>\n",
              "    </tr>\n",
              "    <tr>\n",
              "      <th>129</th>\n",
              "      <td>7.2</td>\n",
              "      <td>3.0</td>\n",
              "      <td>5.8</td>\n",
              "      <td>1.6</td>\n",
              "      <td>Iris-virginica</td>\n",
              "    </tr>\n",
              "    <tr>\n",
              "      <th>130</th>\n",
              "      <td>7.4</td>\n",
              "      <td>2.8</td>\n",
              "      <td>6.1</td>\n",
              "      <td>1.9</td>\n",
              "      <td>Iris-virginica</td>\n",
              "    </tr>\n",
              "    <tr>\n",
              "      <th>131</th>\n",
              "      <td>7.9</td>\n",
              "      <td>3.8</td>\n",
              "      <td>6.4</td>\n",
              "      <td>2.0</td>\n",
              "      <td>Iris-virginica</td>\n",
              "    </tr>\n",
              "    <tr>\n",
              "      <th>132</th>\n",
              "      <td>6.4</td>\n",
              "      <td>2.8</td>\n",
              "      <td>5.6</td>\n",
              "      <td>2.2</td>\n",
              "      <td>Iris-virginica</td>\n",
              "    </tr>\n",
              "    <tr>\n",
              "      <th>133</th>\n",
              "      <td>6.3</td>\n",
              "      <td>2.8</td>\n",
              "      <td>5.1</td>\n",
              "      <td>1.5</td>\n",
              "      <td>Iris-virginica</td>\n",
              "    </tr>\n",
              "    <tr>\n",
              "      <th>134</th>\n",
              "      <td>6.1</td>\n",
              "      <td>2.6</td>\n",
              "      <td>5.6</td>\n",
              "      <td>1.4</td>\n",
              "      <td>Iris-virginica</td>\n",
              "    </tr>\n",
              "    <tr>\n",
              "      <th>135</th>\n",
              "      <td>7.7</td>\n",
              "      <td>3.0</td>\n",
              "      <td>6.1</td>\n",
              "      <td>2.3</td>\n",
              "      <td>Iris-virginica</td>\n",
              "    </tr>\n",
              "    <tr>\n",
              "      <th>136</th>\n",
              "      <td>6.3</td>\n",
              "      <td>3.4</td>\n",
              "      <td>5.6</td>\n",
              "      <td>2.4</td>\n",
              "      <td>Iris-virginica</td>\n",
              "    </tr>\n",
              "    <tr>\n",
              "      <th>137</th>\n",
              "      <td>6.4</td>\n",
              "      <td>3.1</td>\n",
              "      <td>5.5</td>\n",
              "      <td>1.8</td>\n",
              "      <td>Iris-virginica</td>\n",
              "    </tr>\n",
              "    <tr>\n",
              "      <th>138</th>\n",
              "      <td>6.0</td>\n",
              "      <td>3.0</td>\n",
              "      <td>4.8</td>\n",
              "      <td>1.8</td>\n",
              "      <td>Iris-virginica</td>\n",
              "    </tr>\n",
              "    <tr>\n",
              "      <th>139</th>\n",
              "      <td>6.9</td>\n",
              "      <td>3.1</td>\n",
              "      <td>5.4</td>\n",
              "      <td>2.1</td>\n",
              "      <td>Iris-virginica</td>\n",
              "    </tr>\n",
              "    <tr>\n",
              "      <th>140</th>\n",
              "      <td>6.7</td>\n",
              "      <td>3.1</td>\n",
              "      <td>5.6</td>\n",
              "      <td>2.4</td>\n",
              "      <td>Iris-virginica</td>\n",
              "    </tr>\n",
              "    <tr>\n",
              "      <th>141</th>\n",
              "      <td>6.9</td>\n",
              "      <td>3.1</td>\n",
              "      <td>5.1</td>\n",
              "      <td>2.3</td>\n",
              "      <td>Iris-virginica</td>\n",
              "    </tr>\n",
              "    <tr>\n",
              "      <th>142</th>\n",
              "      <td>5.8</td>\n",
              "      <td>2.7</td>\n",
              "      <td>5.1</td>\n",
              "      <td>1.9</td>\n",
              "      <td>Iris-virginica</td>\n",
              "    </tr>\n",
              "    <tr>\n",
              "      <th>143</th>\n",
              "      <td>6.8</td>\n",
              "      <td>3.2</td>\n",
              "      <td>5.9</td>\n",
              "      <td>2.3</td>\n",
              "      <td>Iris-virginica</td>\n",
              "    </tr>\n",
              "    <tr>\n",
              "      <th>144</th>\n",
              "      <td>6.7</td>\n",
              "      <td>3.3</td>\n",
              "      <td>5.7</td>\n",
              "      <td>2.5</td>\n",
              "      <td>Iris-virginica</td>\n",
              "    </tr>\n",
              "    <tr>\n",
              "      <th>145</th>\n",
              "      <td>6.7</td>\n",
              "      <td>3.0</td>\n",
              "      <td>5.2</td>\n",
              "      <td>2.3</td>\n",
              "      <td>Iris-virginica</td>\n",
              "    </tr>\n",
              "    <tr>\n",
              "      <th>146</th>\n",
              "      <td>6.3</td>\n",
              "      <td>2.5</td>\n",
              "      <td>5.0</td>\n",
              "      <td>1.9</td>\n",
              "      <td>Iris-virginica</td>\n",
              "    </tr>\n",
              "    <tr>\n",
              "      <th>147</th>\n",
              "      <td>6.5</td>\n",
              "      <td>3.0</td>\n",
              "      <td>5.2</td>\n",
              "      <td>2.0</td>\n",
              "      <td>Iris-virginica</td>\n",
              "    </tr>\n",
              "    <tr>\n",
              "      <th>148</th>\n",
              "      <td>6.2</td>\n",
              "      <td>3.4</td>\n",
              "      <td>5.4</td>\n",
              "      <td>2.3</td>\n",
              "      <td>Iris-virginica</td>\n",
              "    </tr>\n",
              "    <tr>\n",
              "      <th>149</th>\n",
              "      <td>5.9</td>\n",
              "      <td>3.0</td>\n",
              "      <td>5.1</td>\n",
              "      <td>1.8</td>\n",
              "      <td>Iris-virginica</td>\n",
              "    </tr>\n",
              "  </tbody>\n",
              "</table>\n",
              "<p>150 rows × 5 columns</p>\n",
              "</div>"
            ],
            "text/plain": [
              "     SepalLength  SepalWidth  PetalLength  PetalWidth            Name\n",
              "0            5.1         3.5          1.4         0.2     Iris-setosa\n",
              "1            4.9         3.0          1.4         0.2     Iris-setosa\n",
              "2            4.7         3.2          1.3         0.2     Iris-setosa\n",
              "3            4.6         3.1          1.5         0.2     Iris-setosa\n",
              "4            5.0         3.6          1.4         0.2     Iris-setosa\n",
              "5            5.4         3.9          1.7         0.4     Iris-setosa\n",
              "6            4.6         3.4          1.4         0.3     Iris-setosa\n",
              "7            5.0         3.4          1.5         0.2     Iris-setosa\n",
              "8            4.4         2.9          1.4         0.2     Iris-setosa\n",
              "9            4.9         3.1          1.5         0.1     Iris-setosa\n",
              "10           5.4         3.7          1.5         0.2     Iris-setosa\n",
              "11           4.8         3.4          1.6         0.2     Iris-setosa\n",
              "12           4.8         3.0          1.4         0.1     Iris-setosa\n",
              "13           4.3         3.0          1.1         0.1     Iris-setosa\n",
              "14           5.8         4.0          1.2         0.2     Iris-setosa\n",
              "15           5.7         4.4          1.5         0.4     Iris-setosa\n",
              "16           5.4         3.9          1.3         0.4     Iris-setosa\n",
              "17           5.1         3.5          1.4         0.3     Iris-setosa\n",
              "18           5.7         3.8          1.7         0.3     Iris-setosa\n",
              "19           5.1         3.8          1.5         0.3     Iris-setosa\n",
              "20           5.4         3.4          1.7         0.2     Iris-setosa\n",
              "21           5.1         3.7          1.5         0.4     Iris-setosa\n",
              "22           4.6         3.6          1.0         0.2     Iris-setosa\n",
              "23           5.1         3.3          1.7         0.5     Iris-setosa\n",
              "24           4.8         3.4          1.9         0.2     Iris-setosa\n",
              "25           5.0         3.0          1.6         0.2     Iris-setosa\n",
              "26           5.0         3.4          1.6         0.4     Iris-setosa\n",
              "27           5.2         3.5          1.5         0.2     Iris-setosa\n",
              "28           5.2         3.4          1.4         0.2     Iris-setosa\n",
              "29           4.7         3.2          1.6         0.2     Iris-setosa\n",
              "..           ...         ...          ...         ...             ...\n",
              "120          6.9         3.2          5.7         2.3  Iris-virginica\n",
              "121          5.6         2.8          4.9         2.0  Iris-virginica\n",
              "122          7.7         2.8          6.7         2.0  Iris-virginica\n",
              "123          6.3         2.7          4.9         1.8  Iris-virginica\n",
              "124          6.7         3.3          5.7         2.1  Iris-virginica\n",
              "125          7.2         3.2          6.0         1.8  Iris-virginica\n",
              "126          6.2         2.8          4.8         1.8  Iris-virginica\n",
              "127          6.1         3.0          4.9         1.8  Iris-virginica\n",
              "128          6.4         2.8          5.6         2.1  Iris-virginica\n",
              "129          7.2         3.0          5.8         1.6  Iris-virginica\n",
              "130          7.4         2.8          6.1         1.9  Iris-virginica\n",
              "131          7.9         3.8          6.4         2.0  Iris-virginica\n",
              "132          6.4         2.8          5.6         2.2  Iris-virginica\n",
              "133          6.3         2.8          5.1         1.5  Iris-virginica\n",
              "134          6.1         2.6          5.6         1.4  Iris-virginica\n",
              "135          7.7         3.0          6.1         2.3  Iris-virginica\n",
              "136          6.3         3.4          5.6         2.4  Iris-virginica\n",
              "137          6.4         3.1          5.5         1.8  Iris-virginica\n",
              "138          6.0         3.0          4.8         1.8  Iris-virginica\n",
              "139          6.9         3.1          5.4         2.1  Iris-virginica\n",
              "140          6.7         3.1          5.6         2.4  Iris-virginica\n",
              "141          6.9         3.1          5.1         2.3  Iris-virginica\n",
              "142          5.8         2.7          5.1         1.9  Iris-virginica\n",
              "143          6.8         3.2          5.9         2.3  Iris-virginica\n",
              "144          6.7         3.3          5.7         2.5  Iris-virginica\n",
              "145          6.7         3.0          5.2         2.3  Iris-virginica\n",
              "146          6.3         2.5          5.0         1.9  Iris-virginica\n",
              "147          6.5         3.0          5.2         2.0  Iris-virginica\n",
              "148          6.2         3.4          5.4         2.3  Iris-virginica\n",
              "149          5.9         3.0          5.1         1.8  Iris-virginica\n",
              "\n",
              "[150 rows x 5 columns]"
            ]
          },
          "metadata": {
            "tags": []
          },
          "execution_count": 58
        }
      ]
    },
    {
      "metadata": {
        "id": "tWtkg7bvzlaX",
        "colab_type": "text"
      },
      "cell_type": "markdown",
      "source": [
        "## winの判定"
      ]
    },
    {
      "metadata": {
        "id": "ZDavBdMY1yZL",
        "colab_type": "code",
        "colab": {
          "base_uri": "https://localhost:8080/",
          "height": 1101
        },
        "outputId": "94f71d0b-9fe1-429c-ee4a-c3500dfa77da"
      },
      "cell_type": "code",
      "source": [
        "from urllib.request import urlretrieve\n",
        "import matplotlib.pyplot as plt\n",
        "\n",
        "import pandas as pd\n",
        "from sklearn.model_selection import train_test_split\n",
        "from sklearn.cluster import KMeans\n",
        "from sklearn.ensemble import RandomForestClassifier \n",
        "from sklearn import tree\n",
        "from sklearn.ensemble import AdaBoostClassifier\n",
        "from sklearn.metrics import accuracy_score\n",
        "from sklearn.ensemble import GradientBoostingClassifier\n",
        "from sklearn.model_selection import train_test_split\n",
        "from sklearn.ensemble import RandomForestClassifier \n",
        "from sklearn.metrics import accuracy_score\n",
        "from sklearn.metrics import classification_report\n",
        "\n",
        "import matplotlib.pyplot as plt\n",
        "from mlxtend.plotting import plot_decision_regions\n",
        "from sklearn.svm import SVC\n",
        "import seaborn as sns\n",
        "\n",
        "\n",
        "from itertools import groupby\n",
        "from operator import itemgetter\n",
        "\n",
        "urlretrieve(\n",
        "    \"https://archive.ics.uci.edu/ml/machine-learning-databases/wine-quality/winequality-white.csv\",\n",
        "    \"winequality-white.csv\")\n",
        "\n",
        "wine= pd.read_csv(\"winequality-white.csv\", sep=\";\", encoding=\"utf-8\")\n",
        "# wine\n",
        "\n",
        "# 品質データごとにグループ分けして、その数を数える\n",
        "count_data = wine.groupby('quality')[\"quality\"].count()\n",
        "print(count_data)\n",
        "\n",
        "# 数えたデータをグラフに描画\n",
        "count_data.plot()\n",
        "plt.savefig(\"wine-count-plt.png\")\n",
        "plt.show()\n",
        "\n",
        "# データをラベルとデータに分離\n",
        "y = wine[\"quality\"]\n",
        "x = wine.drop(\"quality\", axis=1)\n",
        "\n",
        "# yのラベルをつけ直して、学習結果を改善させる\n",
        "newlist = []\n",
        "for v in list(y):\n",
        "    if v <= 4:\n",
        "        newlist += [0]\n",
        "    elif v <= 7:\n",
        "        newlist += [1]\n",
        "    else:\n",
        "        newlist += [2]\n",
        "print(\"区分を変更した qualitu の種類と個数 \", {k : len([x for x in g]) for (k, g) in groupby(sorted(newlist))})\n",
        "y = newlist\n",
        "\n",
        "# 学習用とテスト用に分割する\n",
        "x_train, x_test, y_train, y_test = train_test_split(x, y, test_size=0.2)\n",
        "\n",
        "# 学習する\n",
        "clf = GradientBoostingClassifier()\n",
        "clf.fit(x_train, y_train)\n",
        "\n",
        "# 評価する\n",
        "y_pred = clf.predict(x_test)\n",
        "print(\"GradientBoostingClassifier()\", accuracy_score(y_test, y_pred))\n",
        "\n",
        "# 結果を図に表示\n",
        "corr = wine.corr()\n",
        "sns.heatmap(corr, \n",
        "            xticklabels=corr.columns.values,\n",
        "            yticklabels=corr.columns.values)\n",
        "plt.show()\n",
        "\n",
        "#--------------------- 別の学習アルゴリズム -------------\n",
        "# 学習する ---(*3)\n",
        "model = RandomForestClassifier()\n",
        "model.fit(x_train, y_train)\n",
        "\n",
        "# 評価する ---(*4)\n",
        "y_pred = model.predict(x_test)\n",
        "print(classification_report(y_test, y_pred))\n",
        "print(\"RandomForestClassifier 正解率=\", accuracy_score(y_test, y_pred))"
      ],
      "execution_count": 30,
      "outputs": [
        {
          "output_type": "stream",
          "text": [
            "quality\n",
            "3      20\n",
            "4     163\n",
            "5    1457\n",
            "6    2198\n",
            "7     880\n",
            "8     175\n",
            "9       5\n",
            "Name: quality, dtype: int64\n"
          ],
          "name": "stdout"
        },
        {
          "output_type": "display_data",
          "data": {
            "image/png": "[encoded data removed]",
            "text/plain": [
              "<matplotlib.figure.Figure at 0x7f899baceb38>"
            ]
          },
          "metadata": {
            "tags": []
          }
        },
        {
          "output_type": "stream",
          "text": [
            "区分を変更した qualitu の種類と個数  {0: 183, 1: 4535, 2: 180}\n",
            "GradientBoostingClassifier() 0.939795918367347\n"
          ],
          "name": "stdout"
        },
        {
          "output_type": "display_data",
          "data": {
            "image/png": "[encoded data removed]",
            "text/plain": [
              "<matplotlib.figure.Figure at 0x7f8992ede5f8>"
            ]
          },
          "metadata": {
            "tags": []
          }
        },
        {
          "output_type": "stream",
          "text": [
            "             precision    recall  f1-score   support\n",
            "\n",
            "          0       0.50      0.12      0.20        32\n",
            "          1       0.95      0.99      0.97       913\n",
            "          2       0.86      0.34      0.49        35\n",
            "\n",
            "avg / total       0.93      0.94      0.93       980\n",
            "\n",
            "RandomForestClassifier 正解率= 0.9418367346938775\n"
          ],
          "name": "stdout"
        }
      ]
    },
    {
      "metadata": {
        "id": "ubkdo9fQziOz",
        "colab_type": "text"
      },
      "cell_type": "markdown",
      "source": [
        "##天気の予想"
      ]
    },
    {
      "metadata": {
        "id": "CWXMCvywAZDT",
        "colab_type": "text"
      },
      "cell_type": "markdown",
      "source": [
        "データ取得： https://www.data.jma.go.jp/gmd/risk/obsdl/"
      ]
    },
    {
      "metadata": {
        "id": "7GSNdxuGAijR",
        "colab_type": "text"
      },
      "cell_type": "markdown",
      "source": [
        ""
      ]
    },
    {
      "metadata": {
        "id": "FexdXTLyzu8l",
        "colab_type": "code",
        "colab": {}
      },
      "cell_type": "code",
      "source": [
        "from urllib.request import urlretrieve\n",
        "import matplotlib.pyplot as plt\n",
        "import pandas as pd\n",
        "\n",
        "\n",
        "from itertools import groupby\n",
        "from operator import itemgetter\n",
        "\n",
        "urlretrieve(\n",
        "    \"https://raw.githubusercontent.com/katoy/book-mlearn-gyomu/master/ch2/tenki/kion10y.csv\",\n",
        "    \"data.csv\")\n",
        "df = pd.read_csv(\"data.csv\", sep=\",\", encoding=\"utf-8\")\n",
        "# df\n",
        "\n",
        "# 日付ごとに気温をリストにまとめる ---(*2)\n",
        "md = {}\n",
        "for i, row in df.iterrows():\n",
        "    m,  d, v = (int(row['月']), int(row['日']), float(row['気温']))\n",
        "    key = str(m) + \"/\" + str(d)\n",
        "    if not(key in md): md[key] = []\n",
        "    md[key] += [v]\n",
        "\n",
        "# 日付ごとに平均を求める ---(*3)\n",
        "avs = {}\n",
        "for key in md:\n",
        "    v = avs[key] = sum(md[key]) / len(md[key]) # ---(*4)\n",
        "    print(\"{0} : {1}\".format(key, v))"
      ],
      "execution_count": 0,
      "outputs": []
    },
    {
      "metadata": {
        "id": "Iy0GzFAi-KHK",
        "colab_type": "code",
        "colab": {}
      },
      "cell_type": "code",
      "source": [
        "from itertools import groupby\n",
        "import matplotlib.pyplot as plt\n",
        "import pandas as pd\n",
        "\n",
        "# CSVを読み込む ---(*1)\n",
        "urlretrieve(\n",
        "    \"https://raw.githubusercontent.com/katoy/book-mlearn-gyomu/master/ch2/tenki/kion10y.csv\",\n",
        "    \"data.csv\")\n",
        "df = pd.read_csv(\"data.csv\", sep=\",\", encoding=\"utf-8\")\n",
        "\n",
        "# 月ごとに平均を求める ---(*2)\n",
        "g = df.groupby(['月'])[\"気温\"]\n",
        "gg = g.sum() / g.count()\n",
        "\n",
        "# 結果を出力 ---(*3)\n",
        "print(gg)\n",
        "gg.plot()\n",
        "plt.savefig(\"tenki-heikin-tuki.png\")\n",
        "plt.show()"
      ],
      "execution_count": 0,
      "outputs": []
    },
    {
      "metadata": {
        "id": "NaBNM94__MUs",
        "colab_type": "code",
        "colab": {
          "base_uri": "https://localhost:8080/",
          "height": 555
        },
        "outputId": "63835024-5ba0-478b-f08d-f561370b60aa"
      },
      "cell_type": "code",
      "source": [
        "from urllib.request import urlretrieve\n",
        "from sklearn.linear_model import LinearRegression\n",
        "import pandas as pd\n",
        "import numpy as np\n",
        "import matplotlib.pyplot as plt\n",
        "from matplotlib.font_manager import FontProperties\n",
        "\n",
        "urlretrieve(\n",
        "    \"https://raw.githubusercontent.com/katoy/book-mlearn-gyomu/master/ch2/tenki/kion10y.csv\",\n",
        "    \"data.csv\")\n",
        "df = pd.read_csv(\"data.csv\", sep=\",\", encoding=\"utf-8\")\n",
        "\n",
        "interval = 3\n",
        "train_year = (df[\"年\"] <= 2015)\n",
        "test_year = (df[\"年\"] >= 2016)\n",
        "\n",
        "def make_data(data):\n",
        "    x = []\n",
        "    y = []\n",
        "    temps = list(data[\"気温\"])\n",
        "    for i in range(len(temps)):\n",
        "        if i <= interval: continue\n",
        "        y.append(temps[i])\n",
        "        xa = []\n",
        "        for p in range(interval):\n",
        "            d = i + p - interval\n",
        "            xa.append(temps[d])\n",
        "        x.append(xa)\n",
        "    return (x, y)\n",
        "\n",
        "train_x, train_y = make_data(df[train_year])\n",
        "test_x, test_y = make_data(df[test_year])\n",
        "\n",
        "# 機械学習を行う\n",
        "lr = LinearRegression(normalize=True)\n",
        "lr.fit(train_x, train_y) # 学習\n",
        "pre_y = lr.predict(test_x) # 予測\n",
        "\n",
        "# 結果を図にプロット\n",
        "\n",
        "# 日本語フォント\n",
        "fp = FontProperties(fname='/usr/share/fonts/opentype/ipafont-gothic/ipagp.ttf') \n",
        "\n",
        "plt.figure(figsize=(10, 6), dpi=100)\n",
        "plt.plot(test_y, c='r', label=\"実際の気温\")\n",
        "plt.plot(pre_y, c='b', label=\"予想の気温\")\n",
        "plt.legend(prop=fp)\n",
        "plt.title('気温の予想と実際の気温の差', fontproperties=fp)\n",
        "\n",
        "plt.savefig('tenki-kion-lr.png')\n",
        "plt.show()"
      ],
      "execution_count": 35,
      "outputs": [
        {
          "output_type": "display_data",
          "data": {
            "image/png": "[encoded data removed]",
            "text/plain": [
              "<matplotlib.figure.Figure at 0x7f7a2da1cc18>"
            ]
          },
          "metadata": {
            "tags": []
          }
        }
      ]
    },
    {
      "metadata": {
        "id": "x_-QHCP9dI-Z",
        "colab_type": "code",
        "colab": {
          "base_uri": "https://localhost:8080/",
          "height": 582
        },
        "outputId": "840a172e-e5ff-4a12-c0f0-3a8f12ae2ebe"
      },
      "cell_type": "code",
      "source": [
        "import pandas as pd\n",
        "from urllib.request import urlretrieve\n",
        "\n",
        "urlretrieve(\n",
        "    \"https://raw.githubusercontent.com/katoy/book-mlearn-gyomu/master/ch2/tenki/kion10y.csv\",\n",
        "    \"data.csv\")\n",
        "df = pd.read_csv(\"data.csv\", sep=\",\", encoding=\"utf-8\")\n",
        "\n",
        "#  年ごとの 30 度を超えた日数\n",
        "\n",
        "atui = (df[\"気温\"] > 30)\n",
        "cnt = df[atui].groupby([\"年\"])[\"年\"].count()\n",
        "print(cnt)\n",
        "cnt.plot()"
      ],
      "execution_count": 36,
      "outputs": [
        {
          "output_type": "stream",
          "text": [
            "年\n",
            "2006     2\n",
            "2007    11\n",
            "2008     5\n",
            "2010    21\n",
            "2011     9\n",
            "2012     8\n",
            "2013    16\n",
            "2014    12\n",
            "2015     7\n",
            "2016     1\n",
            "Name: 年, dtype: int64\n"
          ],
          "name": "stdout"
        },
        {
          "output_type": "execute_result",
          "data": {
            "text/plain": [
              "<matplotlib.axes._subplots.AxesSubplot at 0x7f7a344a7748>"
            ]
          },
          "metadata": {
            "tags": []
          },
          "execution_count": 36
        },
        {
          "output_type": "display_data",
          "data": {
            "image/png": "[encoded data removed]",
            "text/plain": [
              "<matplotlib.figure.Figure at 0x7f7a2f3a5438>"
            ]
          },
          "metadata": {
            "tags": []
          }
        }
      ]
    }
  ]
}